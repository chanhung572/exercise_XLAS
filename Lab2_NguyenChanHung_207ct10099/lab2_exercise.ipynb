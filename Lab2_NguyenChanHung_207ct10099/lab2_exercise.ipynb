{
 "cells": [
  {
   "cell_type": "markdown",
   "id": "5f8481f4",
   "metadata": {},
   "source": [
    "1. chuong trinh cho phep nguoi dung chon cac phuong phap bien doi anh"
   ]
  },
  {
   "cell_type": "markdown",
   "id": "b9b6876a",
   "metadata": {},
   "source": [
    "cai dat thu vien opencv de xu ly anh"
   ]
  },
  {
   "cell_type": "code",
   "execution_count": null,
   "id": "634ab2fb",
   "metadata": {},
   "outputs": [],
   "source": [
    "pip install opencv-python matplotlib"
   ]
  },
  {
   "cell_type": "code",
   "execution_count": null,
   "id": "7a7e81b0",
   "metadata": {},
   "outputs": [],
   "source": [
    "import cv2\n",
    "import os\n",
    "import numpy as np\n",
    "import matplotlib.pyplot as plt\n",
    "\n",
    "# Định nghĩa các hàm biến đổi ảnh\n",
    "def image_inverse(image):\n",
    "    return 255 - image\n",
    "\n",
    "def gamma_correction(image, gamma=1.0):\n",
    "    inv_gamma = 1.0 / gamma\n",
    "    table = np.array([((i / 255.0) ** inv_gamma) * 255 for i in range(256)]).astype(\"uint8\")\n",
    "    return cv2.LUT(image, table)\n",
    "\n",
    "def log_transformation(image):\n",
    "    c = 255 / np.log(1 + np.max(image))\n",
    "    return c * np.log(1 + image).astype(np.float32)\n",
    "\n",
    "def histogram_equalization(image):\n",
    "    if len(image.shape) == 2:  # Hình ảnh xám\n",
    "        return cv2.equalizeHist(image)\n",
    "    else:  # Hình ảnh màu\n",
    "        ycrcb = cv2.cvtColor(image, cv2.COLOR_BGR2YCrCb)\n",
    "        ycrcb[:, :, 0] = cv2.equalizeHist(ycrcb[:, :, 0])\n",
    "        return cv2.cvtColor(ycrcb, cv2.COLOR_YCrCb2BGR)\n",
    "\n",
    "def contrast_stretching(image):\n",
    "    min_val = np.min(image)\n",
    "    max_val = np.max(image)\n",
    "    stretched = (image - min_val) * (255 / (max_val - min_val))\n",
    "    return np.clip(stretched, 0, 255).astype(np.uint8)\n",
    "\n",
    "# Hàm hiển thị ảnh\n",
    "def show_image(image, title):\n",
    "    plt.imshow(cv2.cvtColor(image, cv2.COLOR_BGR2RGB))\n",
    "    plt.title(title)\n",
    "    plt.axis('off')\n",
    "    plt.show()\n",
    "\n",
    "def main():\n",
    "    # Thư mục chứa ảnh\n",
    "    folder_path = 'exercise'\n",
    "    images = [f for f in os.listdir(folder_path) if f.endswith(('quang_ninh.jpg', 'ha_long_bay.jpg', 'pagoda.jpg'))]\n",
    "\n",
    "    print(\"Chọn phương pháp biến đổi ảnh:\")\n",
    "    print(\"I - Image Inverse Transformation\") # Biến đổi ảnh ngược\n",
    "    print(\"G - Gamma Correction\") # Hiệu chỉnh gamma\n",
    "    print(\"L - Log Transformation\") # Biến đổi log\n",
    "    print(\"H - Histogram Equalization\") # Cân bằng histogram\n",
    "    print(\"C - Contrast Stretching\") # Kéo giãn độ tương phản\n",
    "    print(\"Q - Thoát\")\n",
    "\n",
    "    while True:\n",
    "        choice = input(\"Nhập lựa chọn của bạn: \").upper()\n",
    "\n",
    "        if choice == 'Q':\n",
    "            break\n",
    "\n",
    "        for image_name in images:\n",
    "            image_path = os.path.join(folder_path, image_name)\n",
    "            image = cv2.imread(image_path)\n",
    "\n",
    "            if choice == 'I':\n",
    "                transformed_image = image_inverse(image)\n",
    "                show_image(transformed_image, \"Image Inverse\")\n",
    "\n",
    "            elif choice == 'G':\n",
    "                transformed_image = gamma_correction(image, gamma=2.2)\n",
    "                show_image(transformed_image, \"Gamma Correction\")\n",
    "\n",
    "            elif choice == 'L':\n",
    "                transformed_image = log_transformation(image)\n",
    "                show_image(transformed_image, \"Log Transformation\")\n",
    "\n",
    "            elif choice == 'H':\n",
    "                transformed_image = histogram_equalization(image)\n",
    "                show_image(transformed_image, \"Histogram Equalization\")\n",
    "\n",
    "            elif choice == 'C':\n",
    "                transformed_image = contrast_stretching(image)\n",
    "                show_image(transformed_image, \"Contrast Stretching\")\n",
    "\n",
    "            else:\n",
    "                print(\"Lựa chọn không hợp lệ. Vui lòng thử lại.\")\n",
    "\n",
    "if __name__ == \"__main__\":\n",
    "    main()"
   ]
  }
 ],
 "metadata": {
  "kernelspec": {
   "display_name": ".venv",
   "language": "python",
   "name": "python3"
  },
  "language_info": {
   "codemirror_mode": {
    "name": "ipython",
    "version": 3
   },
   "file_extension": ".py",
   "mimetype": "text/x-python",
   "name": "python",
   "nbconvert_exporter": "python",
   "pygments_lexer": "ipython3",
   "version": "3.12.6"
  }
 },
 "nbformat": 4,
 "nbformat_minor": 5
}
